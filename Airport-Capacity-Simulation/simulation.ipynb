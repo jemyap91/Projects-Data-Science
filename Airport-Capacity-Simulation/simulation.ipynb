{
 "cells": [
  {
   "cell_type": "markdown",
   "metadata": {},
   "source": [
    "## Airport Capacity Simulation Exercise\n",
    "\n",
    "I will attempt to simulate a simplified airport security system at a busy airport. \n",
    "\n",
    "These are the assumptions i will be making in this simulation:\n",
    "\n",
    "1. Passengers arrive according to a Poisson distribution with λ1 = 50 per minute (i.e., mean interarrival rate $\\lambda_1$ = 0.02 minutes) to the ID/boarding-pass check queue, where there are several servers who each have exponential service time with mean rate $\\lambda_2$ = 0.75 minutes. [Hint: model them as one block that has more than one resource.] \n",
    "\n",
    "2. After that, the passengers are assigned to the shortest of the several personal-check queues, where they go through the personal scanner (time is uniformly distributed between 0.5 minutes and 1 minute).\n",
    "\n",
    "\n",
    "I will build a simulation of the system, and then vary the number of ID/boarding-pass checkers and personal-check queues to determine how many are needed to keep average wait times below 15 minutes."
   ]
  },
  {
   "cell_type": "markdown",
   "metadata": {},
   "source": [
    "#### Main Approach\n",
    "\n",
    "I will summarise my main approach to this simulation before diving into the code.\n",
    "\n",
    "<br> **Objective:** The goal of this simulation is to look for the optimal number of resources (id checkers and scanners) required to keep average wait times below 15 minutes. </br>\n",
    "<br>**Steps:**</br>\n",
    "1. Import necessary libraries and declare global variables\n",
    "2. Create Airport class and two functions for checking passes and passengers entering the personal scan\n",
    "3. Define `security_clearance` function to move passenger through the airport and record timestamps as passenger moves through the airport\n",
    "4. Define `passengers_arrive ` function to generate passengers arriving at the airport for security clearance. Calls the `security_clearance` function.\n",
    "5. Define function to calculate average wait time for simulation\n",
    "6. Instantiate Simpy environment and run simulation for 10 hours with a set number of id checkers and scanners.\n",
    "7. Obtain optimal number of resources required to keep wait times under 15 minutes."
   ]
  },
  {
   "cell_type": "markdown",
   "metadata": {},
   "source": [
    "Step 1: Import necessary libraries and declare global variables"
   ]
  },
  {
   "cell_type": "code",
   "execution_count": 1,
   "metadata": {},
   "outputs": [],
   "source": [
    "import random\n",
    "import simpy\n",
    "import statistics\n",
    "import numpy\n",
    "import pandas as pd\n",
    "pd.set_option(\"display.max_rows\", 50)\n"
   ]
  },
  {
   "cell_type": "code",
   "execution_count": 2,
   "metadata": {},
   "outputs": [],
   "source": [
    "wait_times = []\n",
    "mean_checker_time = 0.75\n",
    "scan_time_range = [0.5, 1]\n"
   ]
  },
  {
   "cell_type": "markdown",
   "metadata": {},
   "source": [
    "Step 2: Create Airport class and two functions for checking passes and passengers entering the personal scan"
   ]
  },
  {
   "cell_type": "code",
   "execution_count": 3,
   "metadata": {},
   "outputs": [],
   "source": [
    "# Creates the Airport class and the two functions:\n",
    "# (1) pass checking (2) personal scanning\n",
    "\n",
    "class Airport(object):\n",
    "\n",
    "    wash_times = []\n",
    "\n",
    "    def __init__(self, env, num_idpass_checkers, num_personal_scanners):\n",
    "        self.env = env\n",
    "        self.checker = simpy.Resource(env, num_idpass_checkers)\n",
    "        self.scanner = simpy.Resource(env, num_personal_scanners)\n",
    "\n",
    "    def check_pass(self, passenger, mean_checker_time):\n",
    "        yield self.env.timeout(numpy.random.exponential(mean_checker_time))\n",
    "\n",
    "    def personal_scan(self, passenger, scan_time_range):\n",
    "        yield self.env.timeout(random.uniform(scan_time_range[0], scan_time_range[1]))\n"
   ]
  },
  {
   "cell_type": "markdown",
   "metadata": {},
   "source": [
    "Step 3: Define `security_clearance` function to move passenger through the airport and record timestamps as passenger moves through the airport\n"
   ]
  },
  {
   "cell_type": "code",
   "execution_count": 4,
   "metadata": {},
   "outputs": [],
   "source": [
    "# Create function to move passenger through the airport security system\n",
    "\n",
    "def security_clearance(env, passenger, airport):\n",
    "        \n",
    "    arrival_time = env.now\n",
    "    # print(f\"Passenger number {passenger + 1} entering security clearance at {arrival_time}\")\n",
    "\n",
    "    with airport.checker.request() as request:\n",
    "        # request for a checker\n",
    "        yield request\n",
    "        # check the passenger's ID\n",
    "        yield env.process(airport.check_pass(passenger, mean_checker_time))\n",
    "        # print(f\"Passenger {passenger} passes airport checker at {env.now}.\")\n",
    "    with airport.scanner.request() as request:\n",
    "        # request for a scanner\n",
    "        yield request\n",
    "        # scan the passenger's luggage\n",
    "        yield env.process(airport.personal_scan(passenger, scan_time_range))\n",
    "        # print(f\"Passenger {passenger} passes scanner at {env.now}.\")\n",
    "\n",
    "    wait_times.append(env.now - arrival_time)\n"
   ]
  },
  {
   "cell_type": "markdown",
   "metadata": {},
   "source": [
    "Step 4: Define `passengers_arrive ` function to generate passengers arriving at the airport for security clearance. Calls the `security_clearance` function.\n"
   ]
  },
  {
   "cell_type": "code",
   "execution_count": 5,
   "metadata": {},
   "outputs": [],
   "source": [
    "# Generate a passenger after arrival-rate of 50 passengers/minute \n",
    "# and increment number of passengers\n",
    "\n",
    "def passengers_arrive(env, airport):\n",
    "    # airport = Airport(env, num_idpass_checkers, num_personal_scanners)\n",
    "    passenger = 0\n",
    "    \n",
    "    while True:\n",
    "        # Wait 1/50 minutes before another passenger\n",
    "        yield env.timeout(numpy.random.exponential(0.02)) \n",
    "\n",
    "        passenger += 1\n",
    "        env.process(security_clearance(env, passenger, airport))\n",
    "        # print(f\"Passenger number {passenger} exiting at {env.now}\")\n",
    "        \n"
   ]
  },
  {
   "cell_type": "markdown",
   "metadata": {},
   "source": [
    "Step 5: Define function to calculate average wait time for simulation\n"
   ]
  },
  {
   "cell_type": "code",
   "execution_count": 6,
   "metadata": {},
   "outputs": [],
   "source": [
    "# Calculate wait time and present data\n",
    "\n",
    "def average_wait_time(wait_times):\n",
    "    average_wait = statistics.mean(wait_times)\n",
    "    # minutes, frac_minutes = divmod(average_wait, 1)\n",
    "    # seconds = frac_minutes * 60\n",
    "    return round(average_wait, 2)"
   ]
  },
  {
   "cell_type": "markdown",
   "metadata": {},
   "source": [
    "Step 6: Instantiate Simpy environment and run simulation for 10 hours with a set number of id checkers and scanners.\n"
   ]
  },
  {
   "cell_type": "code",
   "execution_count": 7,
   "metadata": {},
   "outputs": [
    {
     "name": "stdout",
     "output_type": "stream",
     "text": [
      "Average time taken 58.87 with 40 id checkers and 30 scanners.\n",
      "Average time taken 55.38 with 40 id checkers and 31 scanners.\n",
      "Average time taken 52.32 with 40 id checkers and 32 scanners.\n",
      "Average time taken 49.01 with 40 id checkers and 33 scanners.\n",
      "Average time taken 44.83 with 40 id checkers and 34 scanners.\n",
      "Average time taken 41.22 with 40 id checkers and 35 scanners.\n",
      "Average time taken 36.67 with 40 id checkers and 36 scanners.\n",
      "Average time taken 32.49 with 40 id checkers and 37 scanners.\n",
      "Average time taken 28.78 with 40 id checkers and 38 scanners.\n",
      "Average time taken 25.84 with 40 id checkers and 39 scanners.\n",
      "Average time taken 23.45 with 40 id checkers and 40 scanners.\n",
      "Average time taken 21.52 with 40 id checkers and 41 scanners.\n",
      "Average time taken 19.91 with 40 id checkers and 42 scanners.\n",
      "Average time taken 18.53 with 40 id checkers and 43 scanners.\n",
      "Average time taken 17.34 with 40 id checkers and 44 scanners.\n",
      "Average time taken 16.31 with 40 id checkers and 45 scanners.\n",
      "Average time taken 15.4 with 40 id checkers and 46 scanners.\n",
      "Average time taken 14.6 with 40 id checkers and 47 scanners.\n",
      "Time achieved: 14.6\n",
      "The optimal number of resources to obtain a time under 15 minutes are 40 id_checkers and 47 scanners.\n"
     ]
    }
   ],
   "source": [
    "# Create a Simpy Environment\n",
    "random.seed(123)\n",
    "env = simpy.Environment()\n",
    "\n",
    "# Create an airport \n",
    "# Start simulation\n",
    "id_checker_range = range(40,50)\n",
    "scanner_range = range(30,50)\n",
    "simulation_duration = 10 * 60\n",
    "\n",
    "under_50 = 50\n",
    "target_time = 15\n",
    "\n",
    "results_df = pd.DataFrame(columns=[\"id_checkers\", \"scanners\", \"time\"])\n",
    "\n",
    "for id_checker in id_checker_range:\n",
    "    for scanner in scanner_range:\n",
    "        env = simpy.Environment()\n",
    "        airport = Airport(env, id_checker, scanner)\n",
    "        env.process(passengers_arrive(env, airport))\n",
    "        env.run(until=simulation_duration)\n",
    "\n",
    "        # View results\n",
    "        time = average_wait_time(wait_times)\n",
    "        print(f\"Average time taken {time} with {id_checker} id checkers and {scanner} scanners.\")\n",
    "        new_df = pd.DataFrame({\"id_checkers\" : [id_checker], \"scanners\" : [scanner], \"time\" : [time]})\n",
    "        results_df = pd.concat([results_df, new_df], ignore_index=True)\n",
    "\n",
    "        if time <= target_time:\n",
    "            print(f\"Time achieved: {time}\")\n",
    "            print(f\"The optimal number of resources to obtain a time under 15 minutes are {id_checker} id_checkers and {scanner} scanners.\")\n",
    "            break\n",
    "        else:\n",
    "            continue\n",
    "    \n",
    "    if time <= target_time:\n",
    "        break\n",
    "    else:\n",
    "        continue\n",
    "\n",
    "        \n"
   ]
  },
  {
   "cell_type": "markdown",
   "metadata": {},
   "source": [
    "I also take this opportunity to view the progression of wait time reduction as we increase the number of resources to process passenger security clearance."
   ]
  },
  {
   "cell_type": "code",
   "execution_count": 8,
   "metadata": {},
   "outputs": [
    {
     "data": {
      "text/html": [
       "<div>\n",
       "<style scoped>\n",
       "    .dataframe tbody tr th:only-of-type {\n",
       "        vertical-align: middle;\n",
       "    }\n",
       "\n",
       "    .dataframe tbody tr th {\n",
       "        vertical-align: top;\n",
       "    }\n",
       "\n",
       "    .dataframe thead th {\n",
       "        text-align: right;\n",
       "    }\n",
       "</style>\n",
       "<table border=\"1\" class=\"dataframe\">\n",
       "  <thead>\n",
       "    <tr style=\"text-align: right;\">\n",
       "      <th></th>\n",
       "      <th>id_checkers</th>\n",
       "      <th>scanners</th>\n",
       "      <th>time</th>\n",
       "    </tr>\n",
       "  </thead>\n",
       "  <tbody>\n",
       "    <tr>\n",
       "      <th>0</th>\n",
       "      <td>40</td>\n",
       "      <td>30</td>\n",
       "      <td>58.87</td>\n",
       "    </tr>\n",
       "    <tr>\n",
       "      <th>1</th>\n",
       "      <td>40</td>\n",
       "      <td>31</td>\n",
       "      <td>55.38</td>\n",
       "    </tr>\n",
       "    <tr>\n",
       "      <th>2</th>\n",
       "      <td>40</td>\n",
       "      <td>32</td>\n",
       "      <td>52.32</td>\n",
       "    </tr>\n",
       "    <tr>\n",
       "      <th>3</th>\n",
       "      <td>40</td>\n",
       "      <td>33</td>\n",
       "      <td>49.01</td>\n",
       "    </tr>\n",
       "    <tr>\n",
       "      <th>4</th>\n",
       "      <td>40</td>\n",
       "      <td>34</td>\n",
       "      <td>44.83</td>\n",
       "    </tr>\n",
       "    <tr>\n",
       "      <th>5</th>\n",
       "      <td>40</td>\n",
       "      <td>35</td>\n",
       "      <td>41.22</td>\n",
       "    </tr>\n",
       "    <tr>\n",
       "      <th>6</th>\n",
       "      <td>40</td>\n",
       "      <td>36</td>\n",
       "      <td>36.67</td>\n",
       "    </tr>\n",
       "    <tr>\n",
       "      <th>7</th>\n",
       "      <td>40</td>\n",
       "      <td>37</td>\n",
       "      <td>32.49</td>\n",
       "    </tr>\n",
       "    <tr>\n",
       "      <th>8</th>\n",
       "      <td>40</td>\n",
       "      <td>38</td>\n",
       "      <td>28.78</td>\n",
       "    </tr>\n",
       "    <tr>\n",
       "      <th>9</th>\n",
       "      <td>40</td>\n",
       "      <td>39</td>\n",
       "      <td>25.84</td>\n",
       "    </tr>\n",
       "    <tr>\n",
       "      <th>10</th>\n",
       "      <td>40</td>\n",
       "      <td>40</td>\n",
       "      <td>23.45</td>\n",
       "    </tr>\n",
       "    <tr>\n",
       "      <th>11</th>\n",
       "      <td>40</td>\n",
       "      <td>41</td>\n",
       "      <td>21.52</td>\n",
       "    </tr>\n",
       "    <tr>\n",
       "      <th>12</th>\n",
       "      <td>40</td>\n",
       "      <td>42</td>\n",
       "      <td>19.91</td>\n",
       "    </tr>\n",
       "    <tr>\n",
       "      <th>13</th>\n",
       "      <td>40</td>\n",
       "      <td>43</td>\n",
       "      <td>18.53</td>\n",
       "    </tr>\n",
       "    <tr>\n",
       "      <th>14</th>\n",
       "      <td>40</td>\n",
       "      <td>44</td>\n",
       "      <td>17.34</td>\n",
       "    </tr>\n",
       "    <tr>\n",
       "      <th>15</th>\n",
       "      <td>40</td>\n",
       "      <td>45</td>\n",
       "      <td>16.31</td>\n",
       "    </tr>\n",
       "    <tr>\n",
       "      <th>16</th>\n",
       "      <td>40</td>\n",
       "      <td>46</td>\n",
       "      <td>15.40</td>\n",
       "    </tr>\n",
       "    <tr>\n",
       "      <th>17</th>\n",
       "      <td>40</td>\n",
       "      <td>47</td>\n",
       "      <td>14.60</td>\n",
       "    </tr>\n",
       "  </tbody>\n",
       "</table>\n",
       "</div>"
      ],
      "text/plain": [
       "   id_checkers scanners   time\n",
       "0           40       30  58.87\n",
       "1           40       31  55.38\n",
       "2           40       32  52.32\n",
       "3           40       33  49.01\n",
       "4           40       34  44.83\n",
       "5           40       35  41.22\n",
       "6           40       36  36.67\n",
       "7           40       37  32.49\n",
       "8           40       38  28.78\n",
       "9           40       39  25.84\n",
       "10          40       40  23.45\n",
       "11          40       41  21.52\n",
       "12          40       42  19.91\n",
       "13          40       43  18.53\n",
       "14          40       44  17.34\n",
       "15          40       45  16.31\n",
       "16          40       46  15.40\n",
       "17          40       47  14.60"
      ]
     },
     "execution_count": 8,
     "metadata": {},
     "output_type": "execute_result"
    }
   ],
   "source": [
    "results_df"
   ]
  },
  {
   "cell_type": "markdown",
   "metadata": {},
   "source": [
    "Step 7: Obtain optimal number of resources required to keep wait times under 15 minutes.\n",
    "\n",
    "In conclusion, we see that with a busier airport of 50 passengers per minute, we will require 40 id checking servers and 47 personal scanners to keep wait times under 15 minutes."
   ]
  },
  {
   "cell_type": "markdown",
   "metadata": {},
   "source": []
  }
 ],
 "metadata": {
  "kernelspec": {
   "display_name": "base",
   "language": "python",
   "name": "python3"
  },
  "language_info": {
   "codemirror_mode": {
    "name": "ipython",
    "version": 3
   },
   "file_extension": ".py",
   "mimetype": "text/x-python",
   "name": "python",
   "nbconvert_exporter": "python",
   "pygments_lexer": "ipython3",
   "version": "3.9.12"
  },
  "orig_nbformat": 4
 },
 "nbformat": 4,
 "nbformat_minor": 2
}
