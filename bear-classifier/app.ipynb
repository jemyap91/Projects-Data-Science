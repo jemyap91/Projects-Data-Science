{
 "cells": [
  {
   "cell_type": "code",
   "execution_count": 2,
   "metadata": {},
   "outputs": [],
   "source": [
    "#|default_exp app"
   ]
  },
  {
   "cell_type": "code",
   "execution_count": 3,
   "metadata": {},
   "outputs": [
    {
     "name": "stdout",
     "output_type": "stream",
     "text": [
      "Requirement already satisfied: gradio==3.48.0 in /Users/jemyap/opt/anaconda3/lib/python3.9/site-packages (3.48.0)\n",
      "Requirement already satisfied: altair<6.0,>=4.2.0 in /Users/jemyap/opt/anaconda3/lib/python3.9/site-packages (from gradio==3.48.0) (5.2.0)\n",
      "Requirement already satisfied: orjson~=3.0 in /Users/jemyap/opt/anaconda3/lib/python3.9/site-packages (from gradio==3.48.0) (3.9.10)\n",
      "Requirement already satisfied: pandas<3.0,>=1.0 in /Users/jemyap/opt/anaconda3/lib/python3.9/site-packages (from gradio==3.48.0) (1.5.3)\n",
      "Requirement already satisfied: gradio-client==0.6.1 in /Users/jemyap/opt/anaconda3/lib/python3.9/site-packages (from gradio==3.48.0) (0.6.1)\n",
      "Requirement already satisfied: huggingface-hub>=0.14.0 in /Users/jemyap/opt/anaconda3/lib/python3.9/site-packages (from gradio==3.48.0) (0.19.4)\n",
      "Requirement already satisfied: fastapi in /Users/jemyap/opt/anaconda3/lib/python3.9/site-packages (from gradio==3.48.0) (0.104.1)\n",
      "Requirement already satisfied: pillow<11.0,>=8.0 in /Users/jemyap/opt/anaconda3/lib/python3.9/site-packages (from gradio==3.48.0) (9.4.0)\n",
      "Requirement already satisfied: requests~=2.0 in /Users/jemyap/opt/anaconda3/lib/python3.9/site-packages (from gradio==3.48.0) (2.28.1)\n",
      "Requirement already satisfied: ffmpy in /Users/jemyap/opt/anaconda3/lib/python3.9/site-packages (from gradio==3.48.0) (0.3.1)\n",
      "Requirement already satisfied: matplotlib~=3.0 in /Users/jemyap/opt/anaconda3/lib/python3.9/site-packages (from gradio==3.48.0) (3.7.0)\n",
      "Requirement already satisfied: websockets<12.0,>=10.0 in /Users/jemyap/opt/anaconda3/lib/python3.9/site-packages (from gradio==3.48.0) (11.0.3)\n",
      "Requirement already satisfied: uvicorn>=0.14.0 in /Users/jemyap/opt/anaconda3/lib/python3.9/site-packages (from gradio==3.48.0) (0.24.0.post1)\n",
      "Requirement already satisfied: packaging in /Users/jemyap/opt/anaconda3/lib/python3.9/site-packages (from gradio==3.48.0) (22.0)\n",
      "Requirement already satisfied: typing-extensions~=4.0 in /Users/jemyap/opt/anaconda3/lib/python3.9/site-packages (from gradio==3.48.0) (4.8.0)\n",
      "Requirement already satisfied: pyyaml<7.0,>=5.0 in /Users/jemyap/opt/anaconda3/lib/python3.9/site-packages (from gradio==3.48.0) (6.0)\n",
      "Requirement already satisfied: numpy~=1.0 in /Users/jemyap/opt/anaconda3/lib/python3.9/site-packages (from gradio==3.48.0) (1.26.1)\n",
      "Requirement already satisfied: markupsafe~=2.0 in /Users/jemyap/opt/anaconda3/lib/python3.9/site-packages (from gradio==3.48.0) (2.1.1)\n",
      "Requirement already satisfied: importlib-resources<7.0,>=1.3 in /Users/jemyap/opt/anaconda3/lib/python3.9/site-packages (from gradio==3.48.0) (5.2.0)\n",
      "Requirement already satisfied: aiofiles<24.0,>=22.0 in /Users/jemyap/opt/anaconda3/lib/python3.9/site-packages (from gradio==3.48.0) (23.2.1)\n",
      "Requirement already satisfied: semantic-version~=2.0 in /Users/jemyap/opt/anaconda3/lib/python3.9/site-packages (from gradio==3.48.0) (2.10.0)\n",
      "Requirement already satisfied: python-multipart in /Users/jemyap/opt/anaconda3/lib/python3.9/site-packages (from gradio==3.48.0) (0.0.6)\n",
      "Requirement already satisfied: pydub in /Users/jemyap/opt/anaconda3/lib/python3.9/site-packages (from gradio==3.48.0) (0.25.1)\n",
      "Requirement already satisfied: jinja2<4.0 in /Users/jemyap/opt/anaconda3/lib/python3.9/site-packages (from gradio==3.48.0) (3.1.2)\n",
      "Requirement already satisfied: pydantic!=1.8,!=1.8.1,!=2.0.0,!=2.0.1,<3.0.0,>=1.7.4 in /Users/jemyap/opt/anaconda3/lib/python3.9/site-packages (from gradio==3.48.0) (2.5.2)\n",
      "Requirement already satisfied: httpx in /Users/jemyap/opt/anaconda3/lib/python3.9/site-packages (from gradio==3.48.0) (0.25.2)\n",
      "Requirement already satisfied: fsspec in /Users/jemyap/opt/anaconda3/lib/python3.9/site-packages (from gradio-client==0.6.1->gradio==3.48.0) (2023.10.0)\n",
      "Requirement already satisfied: toolz in /Users/jemyap/opt/anaconda3/lib/python3.9/site-packages (from altair<6.0,>=4.2.0->gradio==3.48.0) (0.12.0)\n",
      "Requirement already satisfied: jsonschema>=3.0 in /Users/jemyap/opt/anaconda3/lib/python3.9/site-packages (from altair<6.0,>=4.2.0->gradio==3.48.0) (4.17.3)\n",
      "Requirement already satisfied: filelock in /Users/jemyap/opt/anaconda3/lib/python3.9/site-packages (from huggingface-hub>=0.14.0->gradio==3.48.0) (3.9.0)\n",
      "Requirement already satisfied: tqdm>=4.42.1 in /Users/jemyap/opt/anaconda3/lib/python3.9/site-packages (from huggingface-hub>=0.14.0->gradio==3.48.0) (4.66.1)\n",
      "Requirement already satisfied: zipp>=3.1.0 in /Users/jemyap/opt/anaconda3/lib/python3.9/site-packages (from importlib-resources<7.0,>=1.3->gradio==3.48.0) (3.11.0)\n",
      "Requirement already satisfied: fonttools>=4.22.0 in /Users/jemyap/opt/anaconda3/lib/python3.9/site-packages (from matplotlib~=3.0->gradio==3.48.0) (4.25.0)\n",
      "Requirement already satisfied: contourpy>=1.0.1 in /Users/jemyap/opt/anaconda3/lib/python3.9/site-packages (from matplotlib~=3.0->gradio==3.48.0) (1.0.5)\n",
      "Requirement already satisfied: pyparsing>=2.3.1 in /Users/jemyap/opt/anaconda3/lib/python3.9/site-packages (from matplotlib~=3.0->gradio==3.48.0) (3.0.9)\n",
      "Requirement already satisfied: python-dateutil>=2.7 in /Users/jemyap/opt/anaconda3/lib/python3.9/site-packages (from matplotlib~=3.0->gradio==3.48.0) (2.8.2)\n",
      "Requirement already satisfied: kiwisolver>=1.0.1 in /Users/jemyap/opt/anaconda3/lib/python3.9/site-packages (from matplotlib~=3.0->gradio==3.48.0) (1.4.4)\n",
      "Requirement already satisfied: cycler>=0.10 in /Users/jemyap/opt/anaconda3/lib/python3.9/site-packages (from matplotlib~=3.0->gradio==3.48.0) (0.11.0)\n",
      "Requirement already satisfied: pytz>=2020.1 in /Users/jemyap/opt/anaconda3/lib/python3.9/site-packages (from pandas<3.0,>=1.0->gradio==3.48.0) (2022.7)\n",
      "Requirement already satisfied: pydantic-core==2.14.5 in /Users/jemyap/opt/anaconda3/lib/python3.9/site-packages (from pydantic!=1.8,!=1.8.1,!=2.0.0,!=2.0.1,<3.0.0,>=1.7.4->gradio==3.48.0) (2.14.5)\n",
      "Requirement already satisfied: annotated-types>=0.4.0 in /Users/jemyap/opt/anaconda3/lib/python3.9/site-packages (from pydantic!=1.8,!=1.8.1,!=2.0.0,!=2.0.1,<3.0.0,>=1.7.4->gradio==3.48.0) (0.6.0)\n",
      "Requirement already satisfied: urllib3<1.27,>=1.21.1 in /Users/jemyap/opt/anaconda3/lib/python3.9/site-packages (from requests~=2.0->gradio==3.48.0) (1.26.18)\n",
      "Requirement already satisfied: charset-normalizer<3,>=2 in /Users/jemyap/opt/anaconda3/lib/python3.9/site-packages (from requests~=2.0->gradio==3.48.0) (2.0.4)\n",
      "Requirement already satisfied: idna<4,>=2.5 in /Users/jemyap/opt/anaconda3/lib/python3.9/site-packages (from requests~=2.0->gradio==3.48.0) (3.4)\n",
      "Requirement already satisfied: certifi>=2017.4.17 in /Users/jemyap/opt/anaconda3/lib/python3.9/site-packages (from requests~=2.0->gradio==3.48.0) (2022.12.7)\n",
      "Requirement already satisfied: click>=7.0 in /Users/jemyap/opt/anaconda3/lib/python3.9/site-packages (from uvicorn>=0.14.0->gradio==3.48.0) (8.1.5)\n",
      "Requirement already satisfied: h11>=0.8 in /Users/jemyap/opt/anaconda3/lib/python3.9/site-packages (from uvicorn>=0.14.0->gradio==3.48.0) (0.14.0)\n",
      "Requirement already satisfied: starlette<0.28.0,>=0.27.0 in /Users/jemyap/opt/anaconda3/lib/python3.9/site-packages (from fastapi->gradio==3.48.0) (0.27.0)\n",
      "Requirement already satisfied: anyio<4.0.0,>=3.7.1 in /Users/jemyap/opt/anaconda3/lib/python3.9/site-packages (from fastapi->gradio==3.48.0) (3.7.1)\n",
      "Requirement already satisfied: sniffio in /Users/jemyap/opt/anaconda3/lib/python3.9/site-packages (from httpx->gradio==3.48.0) (1.2.0)\n",
      "Requirement already satisfied: httpcore==1.* in /Users/jemyap/opt/anaconda3/lib/python3.9/site-packages (from httpx->gradio==3.48.0) (1.0.2)\n",
      "Requirement already satisfied: exceptiongroup in /Users/jemyap/opt/anaconda3/lib/python3.9/site-packages (from anyio<4.0.0,>=3.7.1->fastapi->gradio==3.48.0) (1.1.2)\n",
      "Requirement already satisfied: attrs>=17.4.0 in /Users/jemyap/opt/anaconda3/lib/python3.9/site-packages (from jsonschema>=3.0->altair<6.0,>=4.2.0->gradio==3.48.0) (22.1.0)\n",
      "Requirement already satisfied: pyrsistent!=0.17.0,!=0.17.1,!=0.17.2,>=0.14.0 in /Users/jemyap/opt/anaconda3/lib/python3.9/site-packages (from jsonschema>=3.0->altair<6.0,>=4.2.0->gradio==3.48.0) (0.18.0)\n",
      "Requirement already satisfied: six>=1.5 in /Users/jemyap/opt/anaconda3/lib/python3.9/site-packages (from python-dateutil>=2.7->matplotlib~=3.0->gradio==3.48.0) (1.16.0)\n"
     ]
    }
   ],
   "source": [
    "# !pip install gradio==3.48.0"
   ]
  },
  {
   "cell_type": "code",
   "execution_count": 4,
   "metadata": {},
   "outputs": [],
   "source": [
    "#|export\n",
    "from fastai.vision.all import *\n",
    "import gradio as gr"
   ]
  },
  {
   "cell_type": "code",
   "execution_count": 5,
   "metadata": {},
   "outputs": [],
   "source": [
    "#|export\n",
    "learn = load_learner('export.pkl')"
   ]
  },
  {
   "cell_type": "code",
   "execution_count": 6,
   "metadata": {},
   "outputs": [],
   "source": [
    "#|export\n",
    "\n",
    "labels = learn.dls.vocab\n",
    "def predict(img):\n",
    "    img = PILImage.create(img)\n",
    "    pred,pred_idx,probs = learn.predict(img)\n",
    "    return {labels[i]: float(probs[i]) for i in range(len(labels))}"
   ]
  },
  {
   "cell_type": "code",
   "execution_count": null,
   "metadata": {},
   "outputs": [
    {
     "name": "stderr",
     "output_type": "stream",
     "text": [
      "/var/folders/pg/rfrygnnj6js6hvd_b_90mn5w0000gn/T/ipykernel_7999/1945180168.py:2: GradioDeprecationWarning: Usage of gradio.inputs is deprecated, and will not be supported in the future, please import your component from gradio.components\n",
      "  gr.Interface(fn=predict, inputs=gr.inputs.Image(shape=(512, 512)), \\\n",
      "/var/folders/pg/rfrygnnj6js6hvd_b_90mn5w0000gn/T/ipykernel_7999/1945180168.py:2: GradioDeprecationWarning: `optional` parameter is deprecated, and it has no effect\n",
      "  gr.Interface(fn=predict, inputs=gr.inputs.Image(shape=(512, 512)), \\\n",
      "/var/folders/pg/rfrygnnj6js6hvd_b_90mn5w0000gn/T/ipykernel_7999/1945180168.py:3: GradioDeprecationWarning: Usage of gradio.outputs is deprecated, and will not be supported in the future, please import your components from gradio.components\n",
      "  outputs=gr.outputs.Label(num_top_classes=3)).launch(share=True)\n",
      "/var/folders/pg/rfrygnnj6js6hvd_b_90mn5w0000gn/T/ipykernel_7999/1945180168.py:3: GradioUnusedKwargWarning: You have unused kwarg parameters in Label, please remove them: {'type': 'auto'}\n",
      "  outputs=gr.outputs.Label(num_top_classes=3)).launch(share=True)\n"
     ]
    },
    {
     "name": "stdout",
     "output_type": "stream",
     "text": [
      "Running on local URL:  http://127.0.0.1:7861\n",
      "Running on public URL: https://734bedcb57d7e8dc60.gradio.live\n",
      "\n",
      "This share link expires in 72 hours. For free permanent hosting and GPU upgrades, run `gradio deploy` from Terminal to deploy to Spaces (https://huggingface.co/spaces)\n"
     ]
    },
    {
     "data": {
      "text/html": [
       "<div><iframe src=\"https://734bedcb57d7e8dc60.gradio.live\" width=\"100%\" height=\"500\" allow=\"autoplay; camera; microphone; clipboard-read; clipboard-write;\" frameborder=\"0\" allowfullscreen></iframe></div>"
      ],
      "text/plain": [
       "<IPython.core.display.HTML object>"
      ]
     },
     "metadata": {},
     "output_type": "display_data"
    },
    {
     "data": {
      "text/plain": []
     },
     "execution_count": 8,
     "metadata": {},
     "output_type": "execute_result"
    },
    {
     "data": {
      "text/html": [
       "\n",
       "<style>\n",
       "    /* Turns off some styling */\n",
       "    progress {\n",
       "        /* gets rid of default border in Firefox and Opera. */\n",
       "        border: none;\n",
       "        /* Needs to be in here for Safari polyfill so background images work as expected. */\n",
       "        background-size: auto;\n",
       "    }\n",
       "    progress:not([value]), progress:not([value])::-webkit-progress-bar {\n",
       "        background: repeating-linear-gradient(45deg, #7e7e7e, #7e7e7e 10px, #5c5c5c 10px, #5c5c5c 20px);\n",
       "    }\n",
       "    .progress-bar-interrupted, .progress-bar-interrupted::-webkit-progress-bar {\n",
       "        background: #F44336;\n",
       "    }\n",
       "</style>\n"
      ],
      "text/plain": [
       "<IPython.core.display.HTML object>"
      ]
     },
     "metadata": {},
     "output_type": "display_data"
    },
    {
     "data": {
      "text/html": [],
      "text/plain": [
       "<IPython.core.display.HTML object>"
      ]
     },
     "metadata": {},
     "output_type": "display_data"
    }
   ],
   "source": [
    "#|export\n",
    "gr.Interface(fn=predict, inputs=gr.inputs.Image(shape=(512, 512)), \\\n",
    "    outputs=gr.outputs.Label(num_top_classes=3)).launch(share=True)"
   ]
  },
  {
   "cell_type": "code",
   "execution_count": null,
   "metadata": {},
   "outputs": [],
   "source": []
  }
 ],
 "metadata": {
  "kernelspec": {
   "display_name": "base",
   "language": "python",
   "name": "python3"
  },
  "language_info": {
   "codemirror_mode": {
    "name": "ipython",
    "version": 3
   },
   "file_extension": ".py",
   "mimetype": "text/x-python",
   "name": "python",
   "nbconvert_exporter": "python",
   "pygments_lexer": "ipython3",
   "version": "3.9.12"
  }
 },
 "nbformat": 4,
 "nbformat_minor": 2
}
